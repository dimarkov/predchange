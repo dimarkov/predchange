{
 "cells": [
  {
   "cell_type": "code",
   "execution_count": 8,
   "metadata": {},
   "outputs": [],
   "source": [
    "from os import walk\n",
    "\n",
    "import matplotlib.pyplot as plt\n",
    "\n",
    "import numpy as np\n",
    "import pandas as pd\n",
    "\n",
    "from stats import sample_from_posterior\n",
    "\n",
    "from pymc3_models import durw_fit, edhmm_fit"
   ]
  },
  {
   "cell_type": "code",
   "execution_count": 2,
   "metadata": {},
   "outputs": [],
   "source": [
    "# get the file names\n",
    "f = []\n",
    "for (dirpath, dirnames, filenames) in walk('data'):\n",
    "    f.extend(filenames)\n",
    "    break\n",
    "f = np.sort(f)[1:]\n",
    "\n",
    "# set parameters\n",
    "n_subs = len(f)  # number of subjects\n",
    "\n",
    "T = 160  # total number of trials\n",
    "last = -35  # set the time point for the post-reversal phase\n",
    "\n",
    "# input variables for inference\n",
    "inp = np.zeros((T, n_subs, 3), dtype = np.int64)\n",
    "\n",
    "# failed trials\n",
    "nans = np.zeros((T, n_subs), dtype = bool)\n",
    "\n",
    "# format data\n",
    "for i,file in enumerate(f):\n",
    "    sub, _ = file.split(sep='.')\n",
    "    sub = int(sub[-2:])\n",
    "    data = pd.read_csv(dirpath + '/' + file)\n",
    "    start = data['S'][0] \n",
    "    data = data.loc[:,'A':'R']\n",
    "\n",
    "    # change choice labels from (1,2) to (0,1)  \n",
    "    if start == 1:\n",
    "        data['A'] -= 1\n",
    "    else:\n",
    "        # reverse labels (1,2) to (1,0) if the initial best choice was 2\n",
    "        data['A'] = 2 - data['A']\n",
    "      \n",
    "    data['R'][data['R']==-1] = 0  # map choice outcomes from {-1,1} to {0,1}\n",
    "    data['T'] = 1  # set the switch variable to one (it is set to zero only for nan trials)\n",
    "    nans[:,i] = data.isnull().any(axis = 1)\n",
    "    data[nans[:,i]] = 0\n",
    "    data = data.astype(int)\n",
    "    inp[:,i,:] = data.values"
   ]
  },
  {
   "cell_type": "code",
   "execution_count": 5,
   "metadata": {},
   "outputs": [
    {
     "data": {
      "text/html": [
       "\n",
       "    <div>\n",
       "        <style>\n",
       "            /* Turns off some styling */\n",
       "            progress {\n",
       "                /* gets rid of default border in Firefox and Opera. */\n",
       "                border: none;\n",
       "                /* Needs to be in here for Safari polyfill so background images work as expected. */\n",
       "                background-size: auto;\n",
       "            }\n",
       "            .progress-bar-interrupted, .progress-bar-interrupted::-webkit-progress-bar {\n",
       "                background: #F44336;\n",
       "            }\n",
       "        </style>\n",
       "      <progress value='50000' class='' max='50000' style='width:300px; height:20px; vertical-align: middle;'></progress>\n",
       "      100.00% [50000/50000 34:12<00:00 Average Loss = 783.51]\n",
       "    </div>\n",
       "    "
      ],
      "text/plain": [
       "<IPython.core.display.HTML object>"
      ]
     },
     "metadata": {},
     "output_type": "display_data"
    },
    {
     "name": "stderr",
     "output_type": "stream",
     "text": [
      "Finished [100%]: Average Loss = 783.52\n"
     ]
    }
   ],
   "source": [
    "approx_durw = durw_fit(inp, nans, n_subs, last)"
   ]
  },
  {
   "cell_type": "code",
   "execution_count": 6,
   "metadata": {},
   "outputs": [],
   "source": [
    "# sample from posterior and estimate posterior predictive log-model evidence \n",
    "# for the trials excluded from model fitting\n",
    "varnames = ['c0', 'beta', 'alpha', 'kappa', 'V0']\n",
    "durw_sample, pplme, plike2 = sample_from_posterior(approx_durw, \n",
    "                                              varnames, \n",
    "                                              n_subs,\n",
    "                                              inp[last:,:,0], \n",
    "                                              last)\n",
    "\n",
    "# pplme -> provides posterior predictive log-model evidence \n",
    "# estimated over the 'last' trials for each participant \n",
    "# from 10000 predictive samples from the posterior\n",
    "\n",
    "# plike2 -> provides response likelihood per trial over the 'last' trials, \n",
    "# averaged over 10000 predictive samples from the posterior\n",
    "\n",
    "# uncomment for storing reults in HDF5 format\n",
    "# store = pd.HDFStore('behaivor_fits.h5')\n",
    "# store['durw/trace'] = sample\n",
    "# store['durw/pplme'] = pd.Series(pplme)\n",
    "# store['durw/plike2'] = pd.DataFrame(plike2)\n",
    "# store.close()"
   ]
  },
  {
   "cell_type": "code",
   "execution_count": 9,
   "metadata": {},
   "outputs": [
    {
     "data": {
      "image/png": "[encoded data removed]",
      "text/plain": [
       "<Figure size 1080x360 with 3 Axes>"
      ]
     },
     "metadata": {
      "needs_background": "light"
     },
     "output_type": "display_data"
    }
   ],
   "source": [
    "subject = 0  # integer value between 0 and 21\n",
    "\n",
    "fig, axes = plt.subplots(1, 3, figsize=(15, 5));\n",
    "axes[0].hist(durw_sample['alpha__{}'.format(subject)], bins=100);\n",
    "axes[1].hist(durw_sample['kappa__{}'.format(subject)], bins=100);\n",
    "axes[2].hist(durw_sample['beta__{}'.format(subject)], bins=100);"
   ]
  },
  {
   "cell_type": "code",
   "execution_count": 11,
   "metadata": {},
   "outputs": [
    {
     "data": {
      "text/html": [
       "\n",
       "    <div>\n",
       "        <style>\n",
       "            /* Turns off some styling */\n",
       "            progress {\n",
       "                /* gets rid of default border in Firefox and Opera. */\n",
       "                border: none;\n",
       "                /* Needs to be in here for Safari polyfill so background images work as expected. */\n",
       "                background-size: auto;\n",
       "            }\n",
       "            .progress-bar-interrupted, .progress-bar-interrupted::-webkit-progress-bar {\n",
       "                background: #F44336;\n",
       "            }\n",
       "        </style>\n",
       "      <progress value='50000' class='' max='50000' style='width:300px; height:20px; vertical-align: middle;'></progress>\n",
       "      100.00% [50000/50000 36:45:47<00:00 Average Loss = 840.73]\n",
       "    </div>\n",
       "    "
      ],
      "text/plain": [
       "<IPython.core.display.HTML object>"
      ]
     },
     "metadata": {},
     "output_type": "display_data"
    },
    {
     "name": "stderr",
     "output_type": "stream",
     "text": [
      "Finished [100%]: Average Loss = 840.68\n"
     ]
    }
   ],
   "source": [
    "approx_edhmm = edhmm_fit(inp, nans, n_subs, last)"
   ]
  },
  {
   "cell_type": "code",
   "execution_count": 12,
   "metadata": {},
   "outputs": [],
   "source": [
    "varnames = ['c0', 'beta', 'delta', 'r', 'muA', 'muB']\n",
    "edhmm_sample, pplme, plike2 = sample_from_posterior(approx_edhmm, \n",
    "                                              varnames, \n",
    "                                              n_subs,\n",
    "                                              inp[last:,:,0], \n",
    "                                              last)\n",
    "\n",
    "# uncomment for storing results in HDF5 format\n",
    "# store = pd.HDFStore('behavior_fits.h5')\n",
    "# store['edhmm/trace'] = sample\n",
    "# store['edhmm/pplme'] = pd.Series(pplme)\n",
    "# store['edhmm/plike2'] = pd.DataFrame(plike2)\n",
    "# store.close()"
   ]
  },
  {
   "cell_type": "code",
   "execution_count": 23,
   "metadata": {},
   "outputs": [
    {
     "data": {
      "image/png": "[encoded data removed]",
      "text/plain": [
       "<Figure size 1080x360 with 3 Axes>"
      ]
     },
     "metadata": {
      "needs_background": "light"
     },
     "output_type": "display_data"
    }
   ],
   "source": [
    "subject = 0  # integer value between 0 and 21\n",
    "\n",
    "fig, axes = plt.subplots(1, 3, figsize=(15, 5));\n",
    "axes[0].hist(edhmm_sample['delta__{}'.format(subject)], bins=100);\n",
    "axes[1].hist(edhmm_sample['r__{}'.format(subject)], bins=100);\n",
    "axes[2].hist(edhmm_sample['beta__{}'.format(subject)], bins=100);"
   ]
  },
  {
   "cell_type": "code",
   "execution_count": null,
   "metadata": {},
   "outputs": [],
   "source": []
  }
 ],
 "metadata": {
  "@webio": {
   "lastCommId": null,
   "lastKernelId": null
  },
  "kernelspec": {
   "display_name": "Python 3",
   "language": "python",
   "name": "python3"
  },
  "language_info": {
   "codemirror_mode": {
    "name": "ipython",
    "version": 3
   },
   "file_extension": ".py",
   "mimetype": "text/x-python",
   "name": "python",
   "nbconvert_exporter": "python",
   "pygments_lexer": "ipython3",
   "version": "3.8.5"
  }
 },
 "nbformat": 4,
 "nbformat_minor": 4
}
